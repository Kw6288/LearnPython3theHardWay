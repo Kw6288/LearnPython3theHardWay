{
 "cells": [
  {
   "cell_type": "markdown",
   "metadata": {},
   "source": [
    "# 习题 38"
   ]
  },
  {
   "cell_type": "code",
   "execution_count": 6,
   "metadata": {},
   "outputs": [
    {
     "name": "stdout",
     "output_type": "stream",
     "text": [
      "Wait there are not 10 things in that list. Let's fix that.\n",
      "['Apple', 'Organges', 'Crows', 'Telephone', 'Light', 'Sugar']\n",
      "adding:  boy\n",
      "There are 7 items now.\n",
      "adding:  girl\n",
      "There are 8 items now.\n",
      "adding:  banana\n",
      "There are 9 items now.\n",
      "adding:  corn\n",
      "There are 10 items now.\n",
      "There we go:  ['Apple', 'Organges', 'Crows', 'Telephone', 'Light', 'Sugar', 'boy', 'girl', 'banana', 'corn']\n",
      "Let's do some things with stuff.\n",
      "Organges\n",
      "corn\n",
      "corn\n",
      "Apple Organges Crows Telephone Light Sugar boy girl banana\n",
      "Telephone#Light\n"
     ]
    }
   ],
   "source": [
    "ten_things = \"Apple Organges Crows Telephone Light Sugar\"\n",
    "\n",
    "print(\"Wait there are not 10 things in that list. Let's fix that.\")\n",
    "\n",
    "stuff = ten_things.split(' ') #将ten_things这个string按照一定规则进行拆分，并放入一个list中\n",
    "print(stuff)\n",
    "\n",
    "more_stuff = ['day','night','song','frisbee','corn','banana','girl','boy']\n",
    "\n",
    "while len(stuff) != 10:  # 列表元素个数\n",
    "    next_one = more_stuff.pop() #The pop() method removes the element at the specified position.x\n",
    "    #default是移除最后一个元素，然后return最后一个元素\n",
    "    \n",
    "    print(\"adding: \", next_one)\n",
    "    stuff.append(next_one)\n",
    "    print(f\"There are {len(stuff)} items now.\")\n",
    "    \n",
    "print(\"There we go: \", stuff)\n",
    "\n",
    "print(\"Let's do some things with stuff.\")\n",
    "\n",
    "print(stuff[1])\n",
    "print(stuff[-1]) #whoa! fancy\n",
    "print(stuff.pop())\n",
    "print(' '.join(stuff)) #what? cool!\n",
    "#join用于将序列中的元素以指定的字符连接生成一个新的字符串。\n",
    "\n",
    "print('#'.join(stuff[3:5])) #super stellar\n",
    "# 用#号链接第四个和第五个元素"
   ]
  },
  {
   "cell_type": "markdown",
   "metadata": {},
   "source": [
    "# 习题39 字典，可爱的字典"
   ]
  },
  {
   "cell_type": "code",
   "execution_count": 13,
   "metadata": {},
   "outputs": [
    {
     "name": "stdout",
     "output_type": "stream",
     "text": [
      "b\n"
     ]
    },
    {
     "data": {
      "text/plain": [
       "['a', 'bullshit', 'c', 'd', 'e']"
      ]
     },
     "execution_count": 13,
     "metadata": {},
     "output_type": "execute_result"
    }
   ],
   "source": [
    "things = ['a','b','c','d','e']\n",
    "print(things[1])\n",
    "\n",
    "things[1] = 'bullshit'\n",
    "\n",
    "things\n"
   ]
  },
  {
   "cell_type": "code",
   "execution_count": 3,
   "metadata": {},
   "outputs": [
    {
     "name": "stdout",
     "output_type": "stream",
     "text": [
      "Zed\n",
      "39\n",
      "SF\n",
      "{'name': 'Zed', 'age': 39, 'height': 74, 'city': 'SF'}\n"
     ]
    }
   ],
   "source": [
    "stuff = {'name':'Zed', 'age':39, 'height':6*12+2}\n",
    "print(stuff['name'])\n",
    "print(stuff['age'])\n",
    "\n",
    "\n",
    "stuff['city']= 'SF'\n",
    "print(stuff['city'])\n",
    "\n",
    "print(stuff)\n",
    "\n"
   ]
  },
  {
   "cell_type": "code",
   "execution_count": 21,
   "metadata": {},
   "outputs": [
    {
     "name": "stdout",
     "output_type": "stream",
     "text": [
      "wow\n",
      "neato\n",
      "{'name': 'Zed', 'age': 39, 'height': 74, 1: 'wow', 2: 'neato'}\n",
      "{'name': 'Zed', 'age': 39, 'height': 74}\n"
     ]
    }
   ],
   "source": [
    "stuff[1] = 'wow'\n",
    "stuff[2] = 'neato'\n",
    "print(stuff[1])\n",
    "print(stuff[2])\n",
    "\n",
    "print(stuff)\n",
    "\n",
    "del stuff[1]\n",
    "del stuff[2]\n",
    "\n",
    "print(stuff)"
   ]
  },
  {
   "cell_type": "code",
   "execution_count": 43,
   "metadata": {},
   "outputs": [
    {
     "name": "stdout",
     "output_type": "stream",
     "text": [
      "----------\n",
      "NY State has:  New York\n",
      "OR State has:  Portland\n",
      "Florida's abbreviation is:  FL\n",
      "Michigan's abbreviation is:  MI\n",
      "----------\n",
      "Michigan has:  Detroit\n",
      "Florida has:  Jacksonville\n",
      "----------\n",
      "the Oregon is abbreviated as OR.\n",
      "the Florida is abbreviated as FL.\n",
      "the California is abbreviated as CA.\n",
      "the New York is abbreviated as NY.\n",
      "the Michigan is abbreviated as MI.\n",
      "CA has the city San Francisco.\n",
      "MI has the city Detroit.\n",
      "FL has the city Jacksonville.\n",
      "NY has the city New York.\n",
      "OR has the city Portland.\n",
      "----------\n",
      "Oregon state is abbreviated OR.\n",
      "and has city Portland\n",
      "Florida state is abbreviated FL.\n",
      "and has city Jacksonville\n",
      "California state is abbreviated CA.\n",
      "and has city San Francisco\n",
      "New York state is abbreviated NY.\n",
      "and has city New York\n",
      "Michigan state is abbreviated MI.\n",
      "and has city Detroit\n",
      "----------\n",
      "None\n",
      "sorry, no Texas.\n",
      "The city for the state 'TX' is: Does not exist\n"
     ]
    }
   ],
   "source": [
    "# create a mapping of state to abbreviation\n",
    "\n",
    "states = {\n",
    "    'Oregon':'OR',\n",
    "    'Florida':'FL',\n",
    "    'California':'CA',\n",
    "    'New York':'NY',\n",
    "    'Michigan':'MI',\n",
    "}\n",
    "\n",
    "# create a basic set of states and some cities in them\n",
    "\n",
    "cities ={\n",
    "    'CA':'San Francisco',\n",
    "    'MI':'Detroit',\n",
    "    'FL':'Jacksonville',\n",
    "    \n",
    "}\n",
    "\n",
    "# add some more cities\n",
    "\n",
    "cities['NY']='New York'\n",
    "cities['OR']='Portland'\n",
    "\n",
    "# print out some cities\n",
    "\n",
    "print('-'*10)\n",
    "print('NY State has: ', cities['NY'])\n",
    "print('OR State has: ', cities['OR'])\n",
    "\n",
    "# print some states\n",
    "print(\"Florida's abbreviation is: \", states['Florida'])\n",
    "print(\"Michigan's abbreviation is: \", states['Michigan'])\n",
    "\n",
    "# do it by using the state then cities dict\n",
    "print('-'*10)\n",
    "print(\"Michigan has: \", cities[states['Michigan']])\n",
    "print(\"Florida has: \", cities[states['Florida']])\n",
    "\n",
    "# print every state abbreviation\n",
    "print('-'* 10)\n",
    "for x, y in list(states.items()):\n",
    "    print(f\"the {x} is abbreviated as {y}.\")\n",
    "    \n",
    "# print every city in state\n",
    "for x,y in list(cities.items()):\n",
    "    print(f\"{x} has the city {y}.\")\n",
    "    \n",
    "# now do both at the same time\n",
    "print('-'*10)\n",
    "for x,y in list(states.items()):\n",
    "    print(f\"{x} state is abbreviated {y}.\")\n",
    "    print(f\"and has city {cities[y]}\")\n",
    "\n",
    "print('-'*10)\n",
    "# safely get a abbreviation by state that might not be there\n",
    "state = states.get('Texas') # .get 会research in the list and return,如果没有，return none，如果有，return 简写\n",
    "print(state)\n",
    "\n",
    "if not state:\n",
    "    print(\"sorry, no Texas.\")\n",
    "    \n",
    "# get a city with a default value\n",
    "city = cities.get('TX','Does not exist')\n",
    "print(f\"The city for the state 'TX' is: {city}\")"
   ]
  },
  {
   "cell_type": "markdown",
   "metadata": {},
   "source": [
    "# 习题40 模块、类和对象"
   ]
  },
  {
   "cell_type": "code",
   "execution_count": 53,
   "metadata": {},
   "outputs": [
    {
     "name": "stdout",
     "output_type": "stream",
     "text": [
      "I am apples!\n"
     ]
    },
    {
     "ename": "AttributeError",
     "evalue": "module 'mystuff' has no attribute 'tangerine'",
     "output_type": "error",
     "traceback": [
      "\u001b[0;31m---------------------------------------------------------------------------\u001b[0m",
      "\u001b[0;31mAttributeError\u001b[0m                            Traceback (most recent call last)",
      "\u001b[0;32m<ipython-input-53-c8fd87bb3d31>\u001b[0m in \u001b[0;36m<module>\u001b[0;34m\u001b[0m\n\u001b[1;32m      4\u001b[0m \u001b[0;34m\u001b[0m\u001b[0m\n\u001b[1;32m      5\u001b[0m \u001b[0;34m\u001b[0m\u001b[0m\n\u001b[0;32m----> 6\u001b[0;31m \u001b[0mprint\u001b[0m\u001b[0;34m(\u001b[0m\u001b[0mmystuff\u001b[0m\u001b[0;34m.\u001b[0m\u001b[0mtangerine\u001b[0m\u001b[0;34m)\u001b[0m\u001b[0;34m\u001b[0m\u001b[0;34m\u001b[0m\u001b[0m\n\u001b[0m",
      "\u001b[0;31mAttributeError\u001b[0m: module 'mystuff' has no attribute 'tangerine'"
     ]
    }
   ],
   "source": [
    "import mystuff\n",
    "\n",
    "mystuff.apple()\n",
    "\n",
    "\n",
    "print(mystuff.tangerine)"
   ]
  },
  {
   "cell_type": "code",
   "execution_count": 62,
   "metadata": {},
   "outputs": [
    {
     "name": "stdout",
     "output_type": "stream",
     "text": [
      "I am classy apples\n",
      "and now a thousand years between\n"
     ]
    }
   ],
   "source": [
    "class bbb(object):\n",
    "    \n",
    "    def __init__(self): #注意：前后是两个下划线\n",
    "        self.aaa = 'and now a thousand years between'\n",
    "        \n",
    "    def apple(self):\n",
    "        print(\"I am classy apples\")\n",
    "        \n",
    "thing = bbb()\n",
    "thing.apple()\n",
    "print(thing.aaa)"
   ]
  },
  {
   "cell_type": "markdown",
   "metadata": {},
   "source": [
    "### 键-值的三种表达方法\n",
    "```python\n",
    "\n",
    "# dict style \n",
    "# 用字典\n",
    "mystuff['apples']\n",
    "\n",
    "# module style\n",
    "#用模块\n",
    "\n",
    "mystuff.apples()\n",
    "print(mystuff.tangerine)\n",
    "\n",
    "# class style\n",
    "# 用类\n",
    "thing = MyStuff()\n",
    "thing.apples()\n",
    "print(thing.tangerine)\n",
    "```"
   ]
  },
  {
   "cell_type": "code",
   "execution_count": 81,
   "metadata": {},
   "outputs": [
    {
     "name": "stdout",
     "output_type": "stream",
     "text": [
      "Happy birthday to you\n",
      "I dont want to get sued\n",
      "So I'll stop right here\n",
      "They rally around the family\n",
      "With pockets full of shells\n"
     ]
    }
   ],
   "source": [
    "class Song(object):\n",
    "    \n",
    "    def __init__(self,lyrics):\n",
    "        self.lyrics = lyrics\n",
    "        \n",
    "    def sing_me_a_song(self):\n",
    "        for line in self.lyrics:\n",
    "            print(line)\n",
    "# 创建实例       \n",
    "lyrics_1 = [\"Happy birthday to you\",\"I dont want to get sued\",\"So I'll stop right here\"]\n",
    "\n",
    "happy_bday = Song(lyrics_1)\n",
    "\n",
    "bulls_on_parade = Song([\"They rally around the family\",\"With pockets full of shells\"])\n",
    "\n",
    "#调用函数\n",
    "happy_bday.sing_me_a_song()\n",
    "\n",
    "bulls_on_parade.sing_me_a_song()"
   ]
  }
 ],
 "metadata": {
  "kernelspec": {
   "display_name": "Python 3",
   "language": "python",
   "name": "python3"
  },
  "language_info": {
   "codemirror_mode": {
    "name": "ipython",
    "version": 3
   },
   "file_extension": ".py",
   "mimetype": "text/x-python",
   "name": "python",
   "nbconvert_exporter": "python",
   "pygments_lexer": "ipython3",
   "version": "3.7.1"
  }
 },
 "nbformat": 4,
 "nbformat_minor": 2
}
