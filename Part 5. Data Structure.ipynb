{
 "cells": [
  {
   "cell_type": "markdown",
   "metadata": {},
   "source": [
    "# 习题 38"
   ]
  },
  {
   "cell_type": "code",
   "execution_count": 6,
   "metadata": {},
   "outputs": [
    {
     "name": "stdout",
     "output_type": "stream",
     "text": [
      "Wait there are not 10 things in that list. Let's fix that.\n",
      "['Apple', 'Organges', 'Crows', 'Telephone', 'Light', 'Sugar']\n",
      "adding:  boy\n",
      "There are 7 items now.\n",
      "adding:  girl\n",
      "There are 8 items now.\n",
      "adding:  banana\n",
      "There are 9 items now.\n",
      "adding:  corn\n",
      "There are 10 items now.\n",
      "There we go:  ['Apple', 'Organges', 'Crows', 'Telephone', 'Light', 'Sugar', 'boy', 'girl', 'banana', 'corn']\n",
      "Let's do some things with stuff.\n",
      "Organges\n",
      "corn\n",
      "corn\n",
      "Apple Organges Crows Telephone Light Sugar boy girl banana\n",
      "Telephone#Light\n"
     ]
    }
   ],
   "source": [
    "ten_things = \"Apple Organges Crows Telephone Light Sugar\"\n",
    "\n",
    "print(\"Wait there are not 10 things in that list. Let's fix that.\")\n",
    "\n",
    "stuff = ten_things.split(' ') #将ten_things这个string按照一定规则进行拆分，并放入一个list中\n",
    "print(stuff)\n",
    "\n",
    "more_stuff = ['day','night','song','frisbee','corn','banana','girl','boy']\n",
    "\n",
    "while len(stuff) != 10:  # 列表元素个数\n",
    "    next_one = more_stuff.pop() #The pop() method removes the element at the specified position.x\n",
    "    #default是移除最后一个元素，然后return最后一个元素\n",
    "    \n",
    "    print(\"adding: \", next_one)\n",
    "    stuff.append(next_one)\n",
    "    print(f\"There are {len(stuff)} items now.\")\n",
    "    \n",
    "print(\"There we go: \", stuff)\n",
    "\n",
    "print(\"Let's do some things with stuff.\")\n",
    "\n",
    "print(stuff[1])\n",
    "print(stuff[-1]) #whoa! fancy\n",
    "print(stuff.pop())\n",
    "print(' '.join(stuff)) #what? cool!\n",
    "#join用于将序列中的元素以指定的字符连接生成一个新的字符串。\n",
    "\n",
    "print('#'.join(stuff[3:5])) #super stellar\n",
    "# 用#号链接第四个和第五个元素"
   ]
  },
  {
   "cell_type": "markdown",
   "metadata": {},
   "source": [
    "# 习题39 字典，可爱的字典"
   ]
  },
  {
   "cell_type": "code",
   "execution_count": 13,
   "metadata": {},
   "outputs": [
    {
     "name": "stdout",
     "output_type": "stream",
     "text": [
      "b\n"
     ]
    },
    {
     "data": {
      "text/plain": [
       "['a', 'bullshit', 'c', 'd', 'e']"
      ]
     },
     "execution_count": 13,
     "metadata": {},
     "output_type": "execute_result"
    }
   ],
   "source": [
    "things = ['a','b','c','d','e']\n",
    "print(things[1])\n",
    "\n",
    "things[1] = 'bullshit'\n",
    "\n",
    "things\n"
   ]
  },
  {
   "cell_type": "code",
   "execution_count": 22,
   "metadata": {},
   "outputs": [
    {
     "name": "stdout",
     "output_type": "stream",
     "text": [
      "Zed\n",
      "39\n",
      "SF\n",
      "{'name': 'Zed', 'age': 39, 'height': 74, 'city': 'SF'}\n"
     ]
    }
   ],
   "source": [
    "stuff = {'name':'Zed', 'age':39, 'height':6*12+2}\n",
    "print(stuff['name'])\n",
    "print(stuff['age'])\n",
    "\n",
    "\n",
    "stuff['city']= 'SF'\n",
    "print(stuff['city'])\n",
    "\n",
    "print(stuff)"
   ]
  }
 ],
 "metadata": {
  "kernelspec": {
   "display_name": "Python 3",
   "language": "python",
   "name": "python3"
  },
  "language_info": {
   "codemirror_mode": {
    "name": "ipython",
    "version": 3
   },
   "file_extension": ".py",
   "mimetype": "text/x-python",
   "name": "python",
   "nbconvert_exporter": "python",
   "pygments_lexer": "ipython3",
   "version": "3.7.1"
  }
 },
 "nbformat": 4,
 "nbformat_minor": 2
}
