{
 "cells": [
  {
   "cell_type": "markdown",
   "metadata": {},
   "source": [
    "# 习题42 对象、类 以及从属关系"
   ]
  },
  {
   "cell_type": "code",
   "execution_count": 1,
   "metadata": {},
   "outputs": [],
   "source": [
    "## Animal is-a object (yes, sort of confusing) look at the extra credit\n",
    "\n",
    "class Animal(object):\n",
    "    pass\n",
    "\n",
    "## Dog is-a Animal\n",
    "class Dog(Animal):\n",
    "    \n",
    "    def __init__(self, name):\n",
    "        ## Dog has an attribute called name\n",
    "        self.name = name\n",
    "        \n",
    "## Cat is-a Animal\n",
    "class Cat(Animal):\n",
    "    \n",
    "    def __init__(self, name):\n",
    "        ## Cat has-a attribute called name\n",
    "        self.name = name\n",
    "        \n",
    "## Person is-a object\n",
    "class Person(object):\n",
    "    \n",
    "    def __init__(self, name):\n",
    "        ## Person has-a attribute called name\n",
    "        self.name = name\n",
    "         ## Person has-a pet of some kind\n",
    "        self.pet = None\n",
    "\n",
    "## Employee is-a Person\n",
    "class Employee(Person):\n",
    "    \n",
    "    def __init__(self, name, salary):\n",
    "        ## Employee has-a attribute named name\n",
    "        ## hmm what isthis strange magic?\n",
    "        super(Employee, self).__init__(name)\n",
    "        ## Employee has-a atribute called salary\n",
    "        self.salary = salary\n",
    "        \n",
    "## Fish is-a object\n",
    "class Fish(object):\n",
    "    pass\n",
    "\n",
    "## Salmon is-a Fish\n",
    "class Salmon(Fish):\n",
    "    pass\n",
    "\n",
    "##  Halibut is-a Fish\n",
    "class Halibut(Fish):\n",
    "    pass\n",
    "\n",
    "## rover is-a Dog\n",
    "rover = Dog(\"Rover\")\n",
    "\n",
    "## satan is-a Cat\n",
    "satan = Cat(\"Satan\")\n",
    "\n",
    "## mary is-a Person\n",
    "mary = Person(\"Mary\")\n",
    "\n",
    "## mary has-a pet called satan\n",
    "mary.pet = satan\n",
    "\n",
    "## frank is-a Employee, frank has a salary 120000\n",
    "frank = Employee(\"Frank\", 120000)\n",
    "\n",
    "## frank has-a pet called rover\n",
    "frank.pet = rover\n",
    "\n",
    "## flipper is-a Fish\n",
    "flipper = Fish()\n",
    "\n"
   ]
  },
  {
   "cell_type": "markdown",
   "metadata": {},
   "source": [
    "# 习题43 基本的面向对象分析和设计"
   ]
  },
  {
   "cell_type": "code",
   "execution_count": 4,
   "metadata": {},
   "outputs": [
    {
     "ename": "AttributeError",
     "evalue": "'NoneType' object has no attribute 'enter'",
     "output_type": "error",
     "traceback": [
      "\u001b[0;31m---------------------------------------------------------------------------\u001b[0m",
      "\u001b[0;31mAttributeError\u001b[0m                            Traceback (most recent call last)",
      "\u001b[0;32m<ipython-input-4-1a57352da67c>\u001b[0m in \u001b[0;36m<module>\u001b[0;34m\u001b[0m\n\u001b[1;32m     70\u001b[0m \u001b[0ma_map\u001b[0m \u001b[0;34m=\u001b[0m \u001b[0mMap\u001b[0m\u001b[0;34m(\u001b[0m\u001b[0;34m'central_corridor'\u001b[0m\u001b[0;34m)\u001b[0m\u001b[0;34m\u001b[0m\u001b[0;34m\u001b[0m\u001b[0m\n\u001b[1;32m     71\u001b[0m \u001b[0ma_game\u001b[0m \u001b[0;34m=\u001b[0m \u001b[0mEngine\u001b[0m\u001b[0;34m(\u001b[0m\u001b[0ma_map\u001b[0m\u001b[0;34m)\u001b[0m\u001b[0;34m\u001b[0m\u001b[0;34m\u001b[0m\u001b[0m\n\u001b[0;32m---> 72\u001b[0;31m \u001b[0ma_game\u001b[0m\u001b[0;34m.\u001b[0m\u001b[0mplay\u001b[0m\u001b[0;34m(\u001b[0m\u001b[0;34m)\u001b[0m\u001b[0;34m\u001b[0m\u001b[0;34m\u001b[0m\u001b[0m\n\u001b[0m",
      "\u001b[0;32m<ipython-input-4-1a57352da67c>\u001b[0m in \u001b[0;36mplay\u001b[0;34m(self)\u001b[0m\n\u001b[1;32m     25\u001b[0m \u001b[0;34m\u001b[0m\u001b[0m\n\u001b[1;32m     26\u001b[0m         \u001b[0;31m# be sure to print out the last scee\u001b[0m\u001b[0;34m\u001b[0m\u001b[0;34m\u001b[0m\u001b[0;34m\u001b[0m\u001b[0m\n\u001b[0;32m---> 27\u001b[0;31m         \u001b[0mcurrent_scene\u001b[0m\u001b[0;34m.\u001b[0m\u001b[0menter\u001b[0m\u001b[0;34m(\u001b[0m\u001b[0;34m)\u001b[0m\u001b[0;34m\u001b[0m\u001b[0;34m\u001b[0m\u001b[0m\n\u001b[0m\u001b[1;32m     28\u001b[0m \u001b[0;34m\u001b[0m\u001b[0m\n\u001b[1;32m     29\u001b[0m \u001b[0;32mclass\u001b[0m \u001b[0mDeath\u001b[0m\u001b[0;34m(\u001b[0m\u001b[0mScene\u001b[0m\u001b[0;34m)\u001b[0m\u001b[0;34m:\u001b[0m\u001b[0;34m\u001b[0m\u001b[0;34m\u001b[0m\u001b[0m\n",
      "\u001b[0;31mAttributeError\u001b[0m: 'NoneType' object has no attribute 'enter'"
     ]
    }
   ],
   "source": [
    "from sys import exit\n",
    "from random import randint\n",
    "from textwrap import dedent \n",
    "\n",
    "\n",
    "class Scene(object):\n",
    "    \n",
    "    def enter(self):\n",
    "        print(\"This scene is not yet configured\")\n",
    "        print(\"Subclass it and implement enter(.)\")\n",
    "        exit(1)\n",
    "    \n",
    "class Engine(object):\n",
    "    \n",
    "    def __init__(self, scene_map):\n",
    "        self.scene_map = scene_map\n",
    "    \n",
    "    def play(self):\n",
    "        current_scene = self.scene_map.opening_scene()\n",
    "        last_scene = self.scene_map.next_scene('finished')\n",
    "        \n",
    "        while current_scene != last_scene:\n",
    "            next_scene_name = current_scene.enter()\n",
    "            current_scene = self.scene_map.next_scene(next_scene_name)\n",
    "            \n",
    "        # be sure to print out the last scee\n",
    "        current_scene.enter()\n",
    "    \n",
    "class Death(Scene):\n",
    "    \n",
    "    quips = [\n",
    "        \"You died. You kinda such at this.\",\n",
    "        \"Your mom would be proud...if she were smarter.\",\n",
    "        \"Such a loser.\",\n",
    "        \"I have a small puppy that's better at this.\"\n",
    "        \"You're worse than your Dad's jokes.\"\n",
    "    ]\n",
    "    \n",
    "    def enter(self):\n",
    "        print(Death.quips[randint(0, len(self.quips)-1)])\n",
    "        exit(1)\n",
    "        \n",
    "\n",
    "class CentralCorridor(Scene):\n",
    "    \n",
    "    def enter(self):\n",
    "        pass\n",
    "\n",
    "class LaserWeaponArmory(Scene):\n",
    "    \n",
    "    def enter(self):\n",
    "        pass\n",
    "\n",
    "class TheBridge(Scene):\n",
    "    \n",
    "    def enter(self):\n",
    "        pass\n",
    "    \n",
    "class Map(object):\n",
    "    \n",
    "    def __init__(self, start_scene):\n",
    "        pass\n",
    "    \n",
    "    def next_scene(self, scene_name):\n",
    "        pass\n",
    "    \n",
    "    def opening_scene(self):\n",
    "        pass\n",
    "\n",
    "a_map = Map('central_corridor')\n",
    "a_game = Engine(a_map)\n",
    "a_game.play()"
   ]
  },
  {
   "cell_type": "markdown",
   "metadata": {},
   "source": [
    "# 习题44 继承与组合"
   ]
  },
  {
   "cell_type": "markdown",
   "metadata": {},
   "source": [
    "## 隐式继承"
   ]
  },
  {
   "cell_type": "code",
   "execution_count": 7,
   "metadata": {},
   "outputs": [
    {
     "name": "stdout",
     "output_type": "stream",
     "text": [
      "PARENT implicit()\n",
      "PARENT implicit()\n"
     ]
    }
   ],
   "source": [
    "# 创建一个叫做parent的类\n",
    "class Parent(object):\n",
    "    \n",
    "    # Parent里面有个叫做implicit的function，会print一串字符\n",
    "    def implicit(self):\n",
    "        print(\"PARENT implicit()\")\n",
    "\n",
    "# child类 继承了parent类的内容\n",
    "class Child(Parent):\n",
    "    pass\n",
    "\n",
    "dad = Parent() # dad是parent的一个实例\n",
    "son = Child() # son 是child 的一个实力\n",
    "\n",
    "dad.implicit() # dad调用 parent类里面的implict函数\n",
    "son.implicit() # son 调用parent里面的implicit函数\n",
    "\n",
    "# parent是基类， child是子类，子类会继承基类中全部的function"
   ]
  },
  {
   "cell_type": "markdown",
   "metadata": {},
   "source": [
    "## 显式覆盖"
   ]
  },
  {
   "cell_type": "code",
   "execution_count": 10,
   "metadata": {},
   "outputs": [
    {
     "name": "stdout",
     "output_type": "stream",
     "text": [
      "PARENT override()\n",
      "CHILD override()\n"
     ]
    }
   ],
   "source": [
    "class Parent(object):\n",
    "    \n",
    "    # parent中的override函数打印的内容是parent overide字符串\n",
    "    def override(self):\n",
    "        print(\"PARENT override()\")\n",
    "\n",
    "class Child(Parent):\n",
    "    \n",
    "    # 重新define overrride函数以后，child类中的override函数print child override\n",
    "    # 因此， child的实例son中调用的override函数也是print child override\n",
    "    def override(self):\n",
    "        print(\"CHILD override()\")\n",
    "        \n",
    "dad = Parent()\n",
    "son = Child()\n",
    "\n",
    "dad.override()\n",
    "son.override()"
   ]
  },
  {
   "cell_type": "markdown",
   "metadata": {},
   "source": [
    "## 在运行前或运行后替换"
   ]
  },
  {
   "cell_type": "code",
   "execution_count": 12,
   "metadata": {},
   "outputs": [
    {
     "name": "stdout",
     "output_type": "stream",
     "text": [
      "PARENT altered()\n",
      "CHILD, BEFORE PARENT altered()\n",
      "PARENT altered()\n",
      "CHILD, AFTER PARENT altered()\n"
     ]
    }
   ],
   "source": [
    "class Parent(object):\n",
    "\n",
    "    def altered(self):\n",
    "        print(\"PARENT altered()\")\n",
    "        \n",
    "class Child(Parent):\n",
    "    \n",
    "    def altered(self):\n",
    "        print(\"CHILD, BEFORE PARENT altered()\")\n",
    "        super(Child, self).altered()\n",
    "        print(\"CHILD, AFTER PARENT altered()\")\n",
    "        \n",
    "dad = Parent()\n",
    "son = Child()\n",
    "\n",
    "dad.altered()\n",
    "son.altered()"
   ]
  },
  {
   "cell_type": "markdown",
   "metadata": {},
   "source": [
    "## 三种方式组合使用"
   ]
  },
  {
   "cell_type": "code",
   "execution_count": 1,
   "metadata": {},
   "outputs": [
    {
     "name": "stdout",
     "output_type": "stream",
     "text": [
      "PARENT implicit()\n",
      "PARENT implicit()\n",
      "PARENT override()\n",
      "CHILD override()\n",
      "PARENT altered()\n",
      "CHILD, BEFORE PARENT altered()\n",
      "PARENT altered()\n",
      "CHILD, AFTER PARENT altered()\n"
     ]
    }
   ],
   "source": [
    "class Parent(object):\n",
    "    def override(self):\n",
    "        print(\"PARENT override()\")\n",
    "        \n",
    "    def implicit(self):\n",
    "        print(\"PARENT implicit()\")\n",
    "        \n",
    "    def altered(self):\n",
    "        print(\"PARENT altered()\")\n",
    "        \n",
    "class Child(Parent):\n",
    "    def override(self):\n",
    "        print(\"CHILD override()\")\n",
    "        \n",
    "    def altered(self):\n",
    "        print(\"CHILD, BEFORE PARENT altered()\")\n",
    "        super(Child, self).altered()\n",
    "        # super(Child, self).implicit()\n",
    "        print(\"CHILD, AFTER PARENT altered()\")\n",
    "        \n",
    "dad = Parent()\n",
    "son = Child()\n",
    "\n",
    "dad.implicit()\n",
    "son.implicit()\n",
    "\n",
    "dad.override()\n",
    "son.override()\n",
    "\n",
    "dad.altered()\n",
    "son.altered()"
   ]
  },
  {
   "cell_type": "markdown",
   "metadata": {},
   "source": [
    "## 组合"
   ]
  },
  {
   "cell_type": "code",
   "execution_count": 3,
   "metadata": {},
   "outputs": [
    {
     "name": "stdout",
     "output_type": "stream",
     "text": [
      "OTHER implict()\n",
      "CHILD override()\n",
      "CHILD, BEFORE OTHER altered()\n",
      "OTHER altered()\n",
      "CHILD, AFTER OTHER altered()\n"
     ]
    }
   ],
   "source": [
    "class Other(object):\n",
    "    \n",
    "    def override(self):\n",
    "        print(\"OTHER override()\")\n",
    "    \n",
    "    def implicit(self):\n",
    "        print(\"OTHER implict()\")\n",
    "    \n",
    "    def altered(self):\n",
    "        print(\"OTHER altered()\")\n",
    "        \n",
    "class Child(object):\n",
    "    \n",
    "    def __init__(self):\n",
    "        self.other = Other()\n",
    "        \n",
    "    def implicit(self):\n",
    "        self.other.implicit()\n",
    "        \n",
    "    def override(self):\n",
    "        print(\"CHILD override()\")\n",
    "    \n",
    "    def altered(self):\n",
    "        print(\"CHILD, BEFORE OTHER altered()\")\n",
    "        self.other.altered()\n",
    "        print(\"CHILD, AFTER OTHER altered()\")\n",
    "\n",
    "son = Child()\n",
    "\n",
    "son.implicit()\n",
    "son.override()\n",
    "son.altered()"
   ]
  }
 ],
 "metadata": {
  "kernelspec": {
   "display_name": "Python 3",
   "language": "python",
   "name": "python3"
  },
  "language_info": {
   "codemirror_mode": {
    "name": "ipython",
    "version": 3
   },
   "file_extension": ".py",
   "mimetype": "text/x-python",
   "name": "python",
   "nbconvert_exporter": "python",
   "pygments_lexer": "ipython3",
   "version": "3.7.1"
  }
 },
 "nbformat": 4,
 "nbformat_minor": 2
}
