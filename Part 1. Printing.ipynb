{
 "cells": [
  {
   "cell_type": "markdown",
   "metadata": {},
   "source": [
    "# 习题1. 第一个程序"
   ]
  },
  {
   "cell_type": "code",
   "execution_count": 5,
   "metadata": {},
   "outputs": [
    {
     "name": "stdout",
     "output_type": "stream",
     "text": [
      "Hello World!\n",
      "Hello Again\n",
      "I like typing this.\n",
      "This is fun.\n",
      "Yay! Printing.\n",
      "I'd much rather your 'not.'\n",
      "I \"said\" do not touch this\n"
     ]
    }
   ],
   "source": [
    "print('Hello World!')\n",
    "print('Hello Again')\n",
    "print('I like typing this.')\n",
    "print('This is fun.')\n",
    "print('Yay! Printing.')\n",
    "print(\"I'd much rather your 'not.'\")\n",
    "print('I \"said\" do not touch this')"
   ]
  },
  {
   "cell_type": "markdown",
   "metadata": {},
   "source": [
    "# 习题2. 注释和#号"
   ]
  },
  {
   "cell_type": "code",
   "execution_count": 7,
   "metadata": {},
   "outputs": [
    {
     "name": "stdout",
     "output_type": "stream",
     "text": [
      "I could have code like this.\n",
      "This will run.\n"
     ]
    }
   ],
   "source": [
    "# A comment, this is so you can read your program later.\n",
    "# Anything after the # is ignored by python\n",
    "\n",
    "print('I could have code like this.') # and the comment is ignored\n",
    "\n",
    "# you can also use a comment to \"disable \" or comment out code\"\n",
    "#print(\"This won't run.\")\n",
    "\n",
    "print(\"This will run.\")"
   ]
  },
  {
   "cell_type": "markdown",
   "metadata": {},
   "source": [
    "# 习题3. 数字和数学计算"
   ]
  },
  {
   "cell_type": "code",
   "execution_count": 11,
   "metadata": {},
   "outputs": [
    {
     "name": "stdout",
     "output_type": "stream",
     "text": [
      "I will now count my chickens:\n",
      "Hens 30.0\n",
      "Roosters 97\n"
     ]
    }
   ],
   "source": [
    "print(\"I will now count my chickens:\")\n",
    "\n",
    "print(\"Hens\", 25 + 30 /6)\n",
    "print(\"Roosters\", 100 - 25 * 3 % 4)"
   ]
  },
  {
   "cell_type": "markdown",
   "metadata": {},
   "source": [
    "# 习题4. 变量和命名"
   ]
  },
  {
   "cell_type": "code",
   "execution_count": 19,
   "metadata": {},
   "outputs": [
    {
     "name": "stdout",
     "output_type": "stream",
     "text": [
      "There are 100 cars available.\n",
      "There are only 30 drivers available.\n",
      "There will be 70 empty cars today\n",
      "We can transport 120.0 people today.\n",
      "We need to put about 3.0 in each car.\n"
     ]
    }
   ],
   "source": [
    "Cars = 100\n",
    "space_in_a_car = 4.0\n",
    "drivers = 30\n",
    "passengers = 90\n",
    "cars_not_driven = Cars - drivers\n",
    "cars_driven = drivers\n",
    "carpool_capacity = cars_driven * space_in_a_car\n",
    "average_passengers_per_car = passengers / cars_driven\n",
    "\n",
    "print(\"There are\", Cars, \"cars available.\")\n",
    "print(\"There are only\", drivers, \"drivers available.\")\n",
    "print(\"There will be\", cars_not_driven, \"empty cars today\")\n",
    "print(\"We can transport\", carpool_capacity, 'people today.')\n",
    "print('We need to put about', average_passengers_per_car, \"in each car.\")"
   ]
  },
  {
   "cell_type": "markdown",
   "metadata": {},
   "source": [
    "# 习题5. 更多的变量与打印"
   ]
  },
  {
   "cell_type": "markdown",
   "metadata": {},
   "source": [
    "f“ = 格式化，能够将变量中的内容格式化成为 字符串的形式"
   ]
  },
  {
   "cell_type": "code",
   "execution_count": 25,
   "metadata": {},
   "outputs": [
    {
     "name": "stdout",
     "output_type": "stream",
     "text": [
      "Let's talke about Zed A. Shaw\n",
      "His teech are usually White depending on the coffee.\n"
     ]
    }
   ],
   "source": [
    "my_name = \"Zed A. Shaw\"\n",
    "my_age = 35 # not a lie\n",
    "my_height = 74 # inches\n",
    "my_weight = 180 # lbs\n",
    "my_eyes = 'Blue'\n",
    "my_teeth = 'White'\n",
    "my_hair = 'Brown'\n",
    "\n",
    "print(f\"Let's talke about {my_name}\")\n",
    "print(f\"His teech are usually {my_teeth} depending on the coffee.\")"
   ]
  },
  {
   "cell_type": "markdown",
   "metadata": {},
   "source": [
    "# 习题6. 字符串和文本"
   ]
  },
  {
   "cell_type": "markdown",
   "metadata": {},
   "source": [
    ".format()函数:括号中的内容会自动的填写进入需要格式化的内容中的指定位置"
   ]
  },
  {
   "cell_type": "code",
   "execution_count": 29,
   "metadata": {},
   "outputs": [
    {
     "name": "stdout",
     "output_type": "stream",
     "text": [
      "There are 10 types of people.\n",
      "Those who know binary and those who don't.\n",
      "Isn't that joke so funny?False\n",
      "this is the left side of ...a string with a right side.\n"
     ]
    }
   ],
   "source": [
    "types_of_people = 10\n",
    "x = f\"There are {types_of_people} types of people.\" # f\"将这一行中的内容都convert成为string\n",
    "\n",
    "binary = 'binary'\n",
    "do_not = \"don't\"\n",
    "y = f\"Those who know {binary} and those who {do_not}.\"\n",
    "\n",
    "print(x)\n",
    "print(y)\n",
    "\n",
    "hilarious = False\n",
    "joke_evaluation = \"Isn't that joke so funny?{}\"\n",
    "\n",
    "print(joke_evaluation.format(hilarious))\n",
    "\n",
    "w = \"this is the left side of ...\"\n",
    "e = \"a string with a right side.\"\n",
    "\n",
    "print (w+e)"
   ]
  },
  {
   "cell_type": "markdown",
   "metadata": {},
   "source": [
    "# 习题7. 更多打印"
   ]
  },
  {
   "cell_type": "code",
   "execution_count": 41,
   "metadata": {},
   "outputs": [
    {
     "name": "stdout",
     "output_type": "stream",
     "text": [
      "Mary had a little lamb.\n",
      "Its fleece was white as snow\n",
      "and everywhere that Mary went\n",
      "..........\n"
     ]
    }
   ],
   "source": [
    "print('Mary had a little lamb.')\n",
    "print('Its fleece was white as {}'.format('snow'))\n",
    "print(\"and everywhere that Mary went\")\n",
    "print('.'* 10)\n"
   ]
  },
  {
   "cell_type": "markdown",
   "metadata": {},
   "source": [
    "# 习题8. 打印打印"
   ]
  },
  {
   "cell_type": "markdown",
   "metadata": {},
   "source": [
    ".format 是一个python内置的function\n",
    "\n",
    "* 注意：.format里面一定要有对应位数的element，否则会报错"
   ]
  },
  {
   "cell_type": "code",
   "execution_count": 51,
   "metadata": {},
   "outputs": [
    {
     "name": "stdout",
     "output_type": "stream",
     "text": [
      "1 2 3 4\n",
      "True False False True\n"
     ]
    }
   ],
   "source": [
    "x = \"{} {} {} {}\"\n",
    "\n",
    "print (x.format(1,2,3,4))\n",
    "print(x.format(True, False, False, True))"
   ]
  },
  {
   "cell_type": "markdown",
   "metadata": {},
   "source": [
    "# 习题9. 打印，打印，打印"
   ]
  },
  {
   "cell_type": "markdown",
   "metadata": {},
   "source": [
    "1. \"\\n\":在字符串中起到启动换行（next line）的作用\n",
    "2. “”“：在字符串中能起到自动识别换行的效果"
   ]
  },
  {
   "cell_type": "code",
   "execution_count": 56,
   "metadata": {},
   "outputs": [
    {
     "name": "stdout",
     "output_type": "stream",
     "text": [
      "Here are the days: Mon Tue Wed Thu Fri Sat Sun\n",
      "Here are the months: \n",
      "Jan\n",
      "Feb\n",
      "Mar\n",
      "Apr\n",
      "\n",
      "There is something going on here.\n",
      "With the three double-quotes.\n",
      "\n"
     ]
    }
   ],
   "source": [
    "# Here is some new strange stuff, remember type it exactly.\n",
    "\n",
    "days = \"Mon Tue Wed Thu Fri Sat Sun\"\n",
    "months = \"\\nJan\\nFeb\\nMar\\nApr\"\n",
    "\n",
    "print(\"Here are the days:\", days)\n",
    "print(\"Here are the months:\", months)\n",
    "\n",
    "print(\"\"\"\n",
    "There is something going on here.\n",
    "With the three double-quotes.\n",
    "\"\"\")"
   ]
  },
  {
   "cell_type": "markdown",
   "metadata": {},
   "source": [
    "# 习题10. 那是什么"
   ]
  },
  {
   "cell_type": "markdown",
   "metadata": {},
   "source": [
    "* \\t = tab\n",
    "* \\n = next line\n",
    "* \\ = 变成string（转义）\n",
    "* “”“ = 所见即所得"
   ]
  },
  {
   "cell_type": "code",
   "execution_count": 61,
   "metadata": {},
   "outputs": [
    {
     "name": "stdout",
     "output_type": "stream",
     "text": [
      "\tI'm tabbed in.\n",
      "I'm split\n",
      "on a line.\n",
      "I'm\\ a \\ cat.\n",
      "\n",
      "I'll do a list:\n",
      "\t* Cat food\n",
      "\t* Fishies\n",
      "\t* Catnip\n",
      "\t* Grass\n",
      "\n"
     ]
    }
   ],
   "source": [
    "tabby_cat = \"\\tI'm tabbed in.\"\n",
    "persian_cat = \"I'm split\\non a line.\"\n",
    "backslash_cat = \"I'm\\\\ a \\\\ cat.\"\n",
    "\n",
    "fat_cat = \"\"\"\n",
    "I'll do a list:\n",
    "\\t* Cat food\n",
    "\\t* Fishies\n",
    "\\t* Catnip\\n\\t* Grass\n",
    "\"\"\"\n",
    "\n",
    "print (tabby_cat)\n",
    "print(persian_cat)\n",
    "print(backslash_cat)\n",
    "print(fat_cat)\n"
   ]
  },
  {
   "cell_type": "markdown",
   "metadata": {},
   "source": [
    "# 练习11. 提问"
   ]
  },
  {
   "cell_type": "code",
   "execution_count": null,
   "metadata": {},
   "outputs": [],
   "source": [
    "print(\"How old are you?\",end = \" \")\n",
    "age = input()\n",
    "print(\"How tall are you?\", end ='')\n",
    "height = input()\n",
    "print(\"How much do you weigh?\", end = '')\n",
    "weight = input()\n",
    "\n",
    "print(f\"So you're {age} old, {height} tall and {weight} heavy\")"
   ]
  },
  {
   "cell_type": "markdown",
   "metadata": {},
   "source": [
    "# 练习12. 提示别人"
   ]
  },
  {
   "cell_type": "code",
   "execution_count": 71,
   "metadata": {},
   "outputs": [
    {
     "name": "stdout",
     "output_type": "stream",
     "text": [
      "how old are you?25\n",
      "how tall are you182\n",
      "how much do you weigh?70\n",
      "so, you are 25 old, 182 tall and 70 heavy.\n"
     ]
    }
   ],
   "source": [
    "age = input(\"how old are you?\")\n",
    "height = input(\"how tall are you\")\n",
    "weight = input(\"how much do you weigh?\")\n",
    "\n",
    "print(f\"so, you are {age} old, {height} tall and {weight} heavy.\")\n"
   ]
  }
 ],
 "metadata": {
  "kernelspec": {
   "display_name": "Python 3",
   "language": "python",
   "name": "python3"
  },
  "language_info": {
   "codemirror_mode": {
    "name": "ipython",
    "version": 3
   },
   "file_extension": ".py",
   "mimetype": "text/x-python",
   "name": "python",
   "nbconvert_exporter": "python",
   "pygments_lexer": "ipython3",
   "version": "3.7.1"
  }
 },
 "nbformat": 4,
 "nbformat_minor": 2
}
