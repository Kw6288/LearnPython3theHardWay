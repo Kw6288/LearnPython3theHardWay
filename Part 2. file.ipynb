{
 "cells": [
  {
   "cell_type": "markdown",
   "metadata": {},
   "source": [
    "# 习题13 参数、解包和变量"
   ]
  },
  {
   "cell_type": "code",
   "execution_count": 26,
   "metadata": {},
   "outputs": [
    {
     "name": "stdout",
     "output_type": "stream",
     "text": [
      "the script is called: /Library/Frameworks/Python.framework/Versions/3.7/lib/python3.7/site-packages/ipykernel_launcher.py\n",
      "your first variable is : -f\n",
      "your second variable is: /Users/kenneth/Library/Jupyter/runtime/kernel-1fa19fec-2d38-4fb6-878e-934bd7f0d58c.json\n",
      "your third variable is: /Users/kenneth/Library/Jupyter/runtime/kernel-1fa19fec-2d38-4fb6-878e-934bd7f0d58c.json\n"
     ]
    }
   ],
   "source": [
    " from sys import argv\n",
    "# read the WYSS section for how to run this script\n",
    "\n",
    "script, first, second = argv\n",
    "\n",
    "print(\"the script is called:\", script)\n",
    "print(\"your first variable is :\", first)\n",
    "print(\"your second variable is:\", second)\n",
    "print(\"your third variable is:\", third)"
   ]
  },
  {
   "cell_type": "markdown",
   "metadata": {},
   "source": [
    "# 习题14 提示和传递"
   ]
  },
  {
   "cell_type": "code",
   "execution_count": 33,
   "metadata": {},
   "outputs": [
    {
     "ename": "ValueError",
     "evalue": "too many values to unpack (expected 2)",
     "output_type": "error",
     "traceback": [
      "\u001b[0;31m---------------------------------------------------------------------------\u001b[0m",
      "\u001b[0;31mValueError\u001b[0m                                Traceback (most recent call last)",
      "\u001b[0;32m<ipython-input-33-49ae691001f3>\u001b[0m in \u001b[0;36m<module>\u001b[0;34m\u001b[0m\n\u001b[1;32m      1\u001b[0m \u001b[0;32mfrom\u001b[0m \u001b[0msys\u001b[0m \u001b[0;32mimport\u001b[0m \u001b[0margv\u001b[0m\u001b[0;34m\u001b[0m\u001b[0;34m\u001b[0m\u001b[0m\n\u001b[1;32m      2\u001b[0m \u001b[0;34m\u001b[0m\u001b[0m\n\u001b[0;32m----> 3\u001b[0;31m \u001b[0mscript\u001b[0m\u001b[0;34m,\u001b[0m \u001b[0muser_name\u001b[0m \u001b[0;34m=\u001b[0m \u001b[0margv\u001b[0m\u001b[0;34m\u001b[0m\u001b[0;34m\u001b[0m\u001b[0m\n\u001b[0m\u001b[1;32m      4\u001b[0m \u001b[0mprompt\u001b[0m \u001b[0;34m=\u001b[0m \u001b[0;34m'>'\u001b[0m\u001b[0;34m\u001b[0m\u001b[0;34m\u001b[0m\u001b[0m\n\u001b[1;32m      5\u001b[0m \u001b[0;34m\u001b[0m\u001b[0m\n",
      "\u001b[0;31mValueError\u001b[0m: too many values to unpack (expected 2)"
     ]
    }
   ],
   "source": [
    "from sys import argv\n",
    "\n",
    "script, user_name = argv\n",
    "prompt = '>'\n",
    "\n",
    "print(f\"Hi {User_name}, I'm the {script} script.\")\n",
    "print(\"I'd like to ask you a few questions.\")\n",
    "print(f\"Do you like me {user_name}?\")\n",
    "like = input(prompt)\n",
    "\n",
    "print(f\"where do you live {user_name}?\")\n",
    "lives = input(prompt)\n",
    "\n",
    "print(\"what kind of computer do you have?\")\n",
    "computer = input(prompt)\n",
    "\n",
    "print(f\"\"\"\n",
    "Alright, so you said {like} about liking me.\n",
    "You live in {lives}. Not sure where that is.\n",
    "And you have a {computer} computer. Nice.\n",
    "\"\"\")\n"
   ]
  },
  {
   "cell_type": "markdown",
   "metadata": {},
   "source": [
    "# 习题15 读取文件"
   ]
  },
  {
   "cell_type": "code",
   "execution_count": null,
   "metadata": {},
   "outputs": [],
   "source": [
    "#txt = open(filename)\n",
    "\n",
    "#print(f\"Here is your file {filename}:\")\n",
    "#print(txt.read())\n",
    "\n",
    "#print(\"type the filename again:\")\n",
    "file_again = input()\n",
    "\n",
    "txt_again = open(file_again)\n",
    "\n",
    "print(txt_again.read())\n",
    "\n",
    "txt_again.close()\n",
    "print(txt_again.close)"
   ]
  },
  {
   "cell_type": "markdown",
   "metadata": {},
   "source": [
    "# 习题16 读写文件"
   ]
  },
  {
   "cell_type": "code",
   "execution_count": null,
   "metadata": {},
   "outputs": [],
   "source": [
    "#from sys import argv\n",
    "\n",
    "#script, filename = argv\n",
    "\n",
    "# 第一步：选中需要操作的文件\n",
    "filename = input('please type the file name')\n",
    "\n",
    "\n",
    "print(f\"We're going to erase {filename}.\")\n",
    "print(\"If you dont want that, hit CTRL-C(^C).\")\n",
    "print(\"If you do want that, hit RETURN\")\n",
    "\n",
    "input(\"?\")\n",
    "\n",
    "print(\"Opening the file...\")\n",
    "target = open(filename,'w')\n",
    "\n",
    "# 第二步：清空文件\n",
    "print(\"Truncating the file. Goodbye!\")\n",
    "target.truncate()\n",
    "\n",
    "print(\"Now I'm going to ask you for three lines.\")\n",
    "\n",
    "#第三步：明确写入的内容\n",
    "line1 = input(\"line1:\")\n",
    "line2 = input(\"line2:\")\n",
    "line3 = input(\"line3:\")\n",
    "\n",
    "print(\"I'm going to write thesse to the file\")\n",
    "\n",
    "#第四步：写入之前确定的内容\n",
    "'''\n",
    "target.write(line1)\n",
    "target.write(\"\\n\")\n",
    "target.write(line2)\n",
    "target.write(\"\\n\")\n",
    "target.write(line3)\n",
    "target.write(\"\\n\")\n",
    "'''\n",
    "\n",
    "target.write(f\"\"\"{line1}\n",
    "{line2}\n",
    "{line3}\n",
    "\"\"\")\n",
    "\n",
    "\n",
    "#close the file\n",
    "\n",
    "print(\"And finally, we close it.\")\n",
    "\n",
    "target.close()\n",
    "\n",
    "#print the text in file\n",
    "\n",
    "print(\"let's take a look what is inside the file:\")\n",
    "file_name = 'okay.txt'\n",
    "file_open = open(file_name)\n",
    "print(file_open.read())\n",
    "\n",
    "file_open.close()"
   ]
  },
  {
   "cell_type": "markdown",
   "metadata": {},
   "source": [
    "# 习题17. 更多文件操作"
   ]
  },
  {
   "cell_type": "code",
   "execution_count": 9,
   "metadata": {},
   "outputs": [
    {
     "name": "stdout",
     "output_type": "stream",
     "text": [
      "Copying from from.txt to to.txt\n",
      "Does the output file exists? True\n",
      "Ready, hit RETURN to continue, CTRL-C to bort.\n",
      "Alright, all done.\n"
     ]
    }
   ],
   "source": [
    "#from sys imoport argv\n",
    "from os.path import exists \n",
    "# os.path.exists(path)\t如果路径 path 存在，返回 True；如果路径 path 不存在，返回 False。\n",
    "\n",
    "#script, from_file, to_file = argv\n",
    "from_file = 'from.txt'\n",
    "to_file = 'to.txt'\n",
    "\n",
    "print(f\"Copying from {from_file} to {to_file}\")\n",
    "\n",
    "# We could do these two on one line, how?\n",
    "\n",
    "in_file = open(from_file)\n",
    "indata= in_file.read()\n",
    "\n",
    "#indata = open(from_file).read()\n",
    "\n",
    "print(f\"Does the output file exists? {exists(to_file)}\")\n",
    "# print(\"Ready, hit RETURN to continue, CTRL-C to bort.\")\n",
    "input(\"Ready, hit RETURN to continue, CTRL-C to bort.\")\n",
    "      \n",
    "out_file = open(to_file, 'w')\n",
    "out_file.write(indata)\n",
    "      \n",
    "print(\"Alright, all done.\")\n",
    "\n",
    "out_file.close()\n",
    "in_file.close()"
   ]
  }
 ],
 "metadata": {
  "kernelspec": {
   "display_name": "Python 3",
   "language": "python",
   "name": "python3"
  },
  "language_info": {
   "codemirror_mode": {
    "name": "ipython",
    "version": 3
   },
   "file_extension": ".py",
   "mimetype": "text/x-python",
   "name": "python",
   "nbconvert_exporter": "python",
   "pygments_lexer": "ipython3",
   "version": "3.7.1"
  }
 },
 "nbformat": 4,
 "nbformat_minor": 2
}
